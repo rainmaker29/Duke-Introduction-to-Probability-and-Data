{
 "cells": [
  {
   "cell_type": "code",
   "execution_count": 1,
   "metadata": {},
   "outputs": [
    {
     "name": "stderr",
     "output_type": "stream",
     "text": [
      "\n",
      "Attaching package: ‘dplyr’\n",
      "\n",
      "\n",
      "The following objects are masked from ‘package:stats’:\n",
      "\n",
      "    filter, lag\n",
      "\n",
      "\n",
      "The following objects are masked from ‘package:base’:\n",
      "\n",
      "    intersect, setdiff, setequal, union\n",
      "\n",
      "\n"
     ]
    }
   ],
   "source": [
    "library(dplyr)"
   ]
  },
  {
   "cell_type": "code",
   "execution_count": 2,
   "metadata": {},
   "outputs": [],
   "source": [
    "library(ggplot2)\n",
    "library(statsr)\n"
   ]
  },
  {
   "cell_type": "code",
   "execution_count": 3,
   "metadata": {
    "collapsed": true
   },
   "outputs": [],
   "source": [
    "data(kobe_basket)"
   ]
  },
  {
   "cell_type": "code",
   "execution_count": 4,
   "metadata": {},
   "outputs": [],
   "source": [
    "kobe_streak <- calc_streak(kobe_basket$shot)"
   ]
  },
  {
   "cell_type": "code",
   "execution_count": 5,
   "metadata": {},
   "outputs": [
    {
     "data": {
      "image/png": "[encoded data removed]",
      "text/plain": [
       "plot without title"
      ]
     },
     "metadata": {
      "image/png": {
       "height": 420,
       "width": 420
      },
      "text/plain": {
       "height": 420,
       "width": 420
      }
     },
     "output_type": "display_data"
    }
   ],
   "source": [
    "ggplot(data=kobe_streak,aes(x=length)) + geom_histogram(binwidth=1)"
   ]
  },
  {
   "cell_type": "code",
   "execution_count": 8,
   "metadata": {},
   "outputs": [
    {
     "data": {
      "text/html": [
       "'tails'"
      ],
      "text/latex": [
       "'tails'"
      ],
      "text/markdown": [
       "'tails'"
      ],
      "text/plain": [
       "[1] \"tails\""
      ]
     },
     "metadata": {},
     "output_type": "display_data"
    }
   ],
   "source": [
    "coin_outcomes <- c(\"heads\", \"tails\")\n",
    "sample(coin_outcomes, size = 1, replace = TRUE)"
   ]
  },
  {
   "cell_type": "code",
   "execution_count": 10,
   "metadata": {},
   "outputs": [],
   "source": [
    "# To simulate such 100 tosses\n",
    "sim_fair_coin <- sample(coin_outcomes,size=100,replace=TRUE)"
   ]
  },
  {
   "cell_type": "code",
   "execution_count": 11,
   "metadata": {},
   "outputs": [
    {
     "data": {
      "text/html": [
       "<style>\n",
       ".list-inline {list-style: none; margin:0; padding: 0}\n",
       ".list-inline>li {display: inline-block}\n",
       ".list-inline>li:not(:last-child)::after {content: \"\\00b7\"; padding: 0 .5ex}\n",
       "</style>\n",
       "<ol class=list-inline><li>'heads'</li><li>'heads'</li><li>'heads'</li><li>'heads'</li><li>'heads'</li><li>'heads'</li><li>'heads'</li><li>'tails'</li><li>'tails'</li><li>'heads'</li><li>'tails'</li><li>'heads'</li><li>'tails'</li><li>'tails'</li><li>'tails'</li><li>'tails'</li><li>'tails'</li><li>'tails'</li><li>'heads'</li><li>'heads'</li><li>'tails'</li><li>'tails'</li><li>'heads'</li><li>'tails'</li><li>'tails'</li><li>'heads'</li><li>'tails'</li><li>'heads'</li><li>'tails'</li><li>'tails'</li><li>'heads'</li><li>'heads'</li><li>'tails'</li><li>'tails'</li><li>'heads'</li><li>'tails'</li><li>'tails'</li><li>'tails'</li><li>'tails'</li><li>'tails'</li><li>'heads'</li><li>'tails'</li><li>'tails'</li><li>'heads'</li><li>'heads'</li><li>'tails'</li><li>'heads'</li><li>'heads'</li><li>'tails'</li><li>'heads'</li><li>'tails'</li><li>'tails'</li><li>'heads'</li><li>'heads'</li><li>'tails'</li><li>'heads'</li><li>'tails'</li><li>'tails'</li><li>'heads'</li><li>'tails'</li><li>'tails'</li><li>'heads'</li><li>'tails'</li><li>'tails'</li><li>'heads'</li><li>'tails'</li><li>'tails'</li><li>'tails'</li><li>'heads'</li><li>'tails'</li><li>'tails'</li><li>'tails'</li><li>'heads'</li><li>'tails'</li><li>'tails'</li><li>'heads'</li><li>'tails'</li><li>'tails'</li><li>'heads'</li><li>'heads'</li><li>'heads'</li><li>'tails'</li><li>'tails'</li><li>'tails'</li><li>'tails'</li><li>'heads'</li><li>'tails'</li><li>'tails'</li><li>'heads'</li><li>'heads'</li><li>'heads'</li><li>'heads'</li><li>'tails'</li><li>'tails'</li><li>'heads'</li><li>'heads'</li><li>'heads'</li><li>'tails'</li><li>'tails'</li><li>'tails'</li></ol>\n"
      ],
      "text/latex": [
       "\\begin{enumerate*}\n",
       "\\item 'heads'\n",
       "\\item 'heads'\n",
       "\\item 'heads'\n",
       "\\item 'heads'\n",
       "\\item 'heads'\n",
       "\\item 'heads'\n",
       "\\item 'heads'\n",
       "\\item 'tails'\n",
       "\\item 'tails'\n",
       "\\item 'heads'\n",
       "\\item 'tails'\n",
       "\\item 'heads'\n",
       "\\item 'tails'\n",
       "\\item 'tails'\n",
       "\\item 'tails'\n",
       "\\item 'tails'\n",
       "\\item 'tails'\n",
       "\\item 'tails'\n",
       "\\item 'heads'\n",
       "\\item 'heads'\n",
       "\\item 'tails'\n",
       "\\item 'tails'\n",
       "\\item 'heads'\n",
       "\\item 'tails'\n",
       "\\item 'tails'\n",
       "\\item 'heads'\n",
       "\\item 'tails'\n",
       "\\item 'heads'\n",
       "\\item 'tails'\n",
       "\\item 'tails'\n",
       "\\item 'heads'\n",
       "\\item 'heads'\n",
       "\\item 'tails'\n",
       "\\item 'tails'\n",
       "\\item 'heads'\n",
       "\\item 'tails'\n",
       "\\item 'tails'\n",
       "\\item 'tails'\n",
       "\\item 'tails'\n",
       "\\item 'tails'\n",
       "\\item 'heads'\n",
       "\\item 'tails'\n",
       "\\item 'tails'\n",
       "\\item 'heads'\n",
       "\\item 'heads'\n",
       "\\item 'tails'\n",
       "\\item 'heads'\n",
       "\\item 'heads'\n",
       "\\item 'tails'\n",
       "\\item 'heads'\n",
       "\\item 'tails'\n",
       "\\item 'tails'\n",
       "\\item 'heads'\n",
       "\\item 'heads'\n",
       "\\item 'tails'\n",
       "\\item 'heads'\n",
       "\\item 'tails'\n",
       "\\item 'tails'\n",
       "\\item 'heads'\n",
       "\\item 'tails'\n",
       "\\item 'tails'\n",
       "\\item 'heads'\n",
       "\\item 'tails'\n",
       "\\item 'tails'\n",
       "\\item 'heads'\n",
       "\\item 'tails'\n",
       "\\item 'tails'\n",
       "\\item 'tails'\n",
       "\\item 'heads'\n",
       "\\item 'tails'\n",
       "\\item 'tails'\n",
       "\\item 'tails'\n",
       "\\item 'heads'\n",
       "\\item 'tails'\n",
       "\\item 'tails'\n",
       "\\item 'heads'\n",
       "\\item 'tails'\n",
       "\\item 'tails'\n",
       "\\item 'heads'\n",
       "\\item 'heads'\n",
       "\\item 'heads'\n",
       "\\item 'tails'\n",
       "\\item 'tails'\n",
       "\\item 'tails'\n",
       "\\item 'tails'\n",
       "\\item 'heads'\n",
       "\\item 'tails'\n",
       "\\item 'tails'\n",
       "\\item 'heads'\n",
       "\\item 'heads'\n",
       "\\item 'heads'\n",
       "\\item 'heads'\n",
       "\\item 'tails'\n",
       "\\item 'tails'\n",
       "\\item 'heads'\n",
       "\\item 'heads'\n",
       "\\item 'heads'\n",
       "\\item 'tails'\n",
       "\\item 'tails'\n",
       "\\item 'tails'\n",
       "\\end{enumerate*}\n"
      ],
      "text/markdown": [
       "1. 'heads'\n",
       "2. 'heads'\n",
       "3. 'heads'\n",
       "4. 'heads'\n",
       "5. 'heads'\n",
       "6. 'heads'\n",
       "7. 'heads'\n",
       "8. 'tails'\n",
       "9. 'tails'\n",
       "10. 'heads'\n",
       "11. 'tails'\n",
       "12. 'heads'\n",
       "13. 'tails'\n",
       "14. 'tails'\n",
       "15. 'tails'\n",
       "16. 'tails'\n",
       "17. 'tails'\n",
       "18. 'tails'\n",
       "19. 'heads'\n",
       "20. 'heads'\n",
       "21. 'tails'\n",
       "22. 'tails'\n",
       "23. 'heads'\n",
       "24. 'tails'\n",
       "25. 'tails'\n",
       "26. 'heads'\n",
       "27. 'tails'\n",
       "28. 'heads'\n",
       "29. 'tails'\n",
       "30. 'tails'\n",
       "31. 'heads'\n",
       "32. 'heads'\n",
       "33. 'tails'\n",
       "34. 'tails'\n",
       "35. 'heads'\n",
       "36. 'tails'\n",
       "37. 'tails'\n",
       "38. 'tails'\n",
       "39. 'tails'\n",
       "40. 'tails'\n",
       "41. 'heads'\n",
       "42. 'tails'\n",
       "43. 'tails'\n",
       "44. 'heads'\n",
       "45. 'heads'\n",
       "46. 'tails'\n",
       "47. 'heads'\n",
       "48. 'heads'\n",
       "49. 'tails'\n",
       "50. 'heads'\n",
       "51. 'tails'\n",
       "52. 'tails'\n",
       "53. 'heads'\n",
       "54. 'heads'\n",
       "55. 'tails'\n",
       "56. 'heads'\n",
       "57. 'tails'\n",
       "58. 'tails'\n",
       "59. 'heads'\n",
       "60. 'tails'\n",
       "61. 'tails'\n",
       "62. 'heads'\n",
       "63. 'tails'\n",
       "64. 'tails'\n",
       "65. 'heads'\n",
       "66. 'tails'\n",
       "67. 'tails'\n",
       "68. 'tails'\n",
       "69. 'heads'\n",
       "70. 'tails'\n",
       "71. 'tails'\n",
       "72. 'tails'\n",
       "73. 'heads'\n",
       "74. 'tails'\n",
       "75. 'tails'\n",
       "76. 'heads'\n",
       "77. 'tails'\n",
       "78. 'tails'\n",
       "79. 'heads'\n",
       "80. 'heads'\n",
       "81. 'heads'\n",
       "82. 'tails'\n",
       "83. 'tails'\n",
       "84. 'tails'\n",
       "85. 'tails'\n",
       "86. 'heads'\n",
       "87. 'tails'\n",
       "88. 'tails'\n",
       "89. 'heads'\n",
       "90. 'heads'\n",
       "91. 'heads'\n",
       "92. 'heads'\n",
       "93. 'tails'\n",
       "94. 'tails'\n",
       "95. 'heads'\n",
       "96. 'heads'\n",
       "97. 'heads'\n",
       "98. 'tails'\n",
       "99. 'tails'\n",
       "100. 'tails'\n",
       "\n",
       "\n"
      ],
      "text/plain": [
       "  [1] \"heads\" \"heads\" \"heads\" \"heads\" \"heads\" \"heads\" \"heads\" \"tails\" \"tails\"\n",
       " [10] \"heads\" \"tails\" \"heads\" \"tails\" \"tails\" \"tails\" \"tails\" \"tails\" \"tails\"\n",
       " [19] \"heads\" \"heads\" \"tails\" \"tails\" \"heads\" \"tails\" \"tails\" \"heads\" \"tails\"\n",
       " [28] \"heads\" \"tails\" \"tails\" \"heads\" \"heads\" \"tails\" \"tails\" \"heads\" \"tails\"\n",
       " [37] \"tails\" \"tails\" \"tails\" \"tails\" \"heads\" \"tails\" \"tails\" \"heads\" \"heads\"\n",
       " [46] \"tails\" \"heads\" \"heads\" \"tails\" \"heads\" \"tails\" \"tails\" \"heads\" \"heads\"\n",
       " [55] \"tails\" \"heads\" \"tails\" \"tails\" \"heads\" \"tails\" \"tails\" \"heads\" \"tails\"\n",
       " [64] \"tails\" \"heads\" \"tails\" \"tails\" \"tails\" \"heads\" \"tails\" \"tails\" \"tails\"\n",
       " [73] \"heads\" \"tails\" \"tails\" \"heads\" \"tails\" \"tails\" \"heads\" \"heads\" \"heads\"\n",
       " [82] \"tails\" \"tails\" \"tails\" \"tails\" \"heads\" \"tails\" \"tails\" \"heads\" \"heads\"\n",
       " [91] \"heads\" \"heads\" \"tails\" \"tails\" \"heads\" \"heads\" \"heads\" \"tails\" \"tails\"\n",
       "[100] \"tails\""
      ]
     },
     "metadata": {},
     "output_type": "display_data"
    }
   ],
   "source": [
    "sim_fair_coin"
   ]
  },
  {
   "cell_type": "code",
   "execution_count": 12,
   "metadata": {},
   "outputs": [
    {
     "data": {
      "text/plain": [
       "sim_fair_coin\n",
       "heads tails \n",
       "   43    57 "
      ]
     },
     "metadata": {},
     "output_type": "display_data"
    }
   ],
   "source": [
    "#make a table\n",
    "table(sim_fair_coin)"
   ]
  },
  {
   "cell_type": "code",
   "execution_count": 13,
   "metadata": {},
   "outputs": [],
   "source": [
    "#simulating an unfair coin\n",
    "sim_unfair_coin <- sample(coin_outcomes,size=100,replace=TRUE,prob = c(0.2,0.8))"
   ]
  },
  {
   "cell_type": "code",
   "execution_count": 14,
   "metadata": {},
   "outputs": [],
   "source": [
    "#Simulating  independent shooter\n",
    "shot_outcomes <- c(\"H\",\"M\")\n",
    "sim_basket <- sample(shot_outcomes, size=1,replace=TRUE)"
   ]
  },
  {
   "cell_type": "code",
   "execution_count": 24,
   "metadata": {},
   "outputs": [],
   "source": [
    "#To make probability of shots 0.45\n",
    "sim_basket <- sample(shot_outcomes, size = 1, replace = TRUE,prob=c(0.45,0.55))\n"
   ]
  },
  {
   "cell_type": "code",
   "execution_count": 25,
   "metadata": {},
   "outputs": [],
   "source": [
    "sim_streak <- calc_streak(sim_basket)"
   ]
  },
  {
   "cell_type": "code",
   "execution_count": 27,
   "metadata": {},
   "outputs": [],
   "source": [
    "# ggplot(data=sim_streak,aes(x=length)) + geom_histogram(binwidth=1)\n",
    "sim_table <- table(sim_basket)"
   ]
  },
  {
   "cell_type": "code",
   "execution_count": 29,
   "metadata": {},
   "outputs": [
    {
     "data": {
      "image/png": "[encoded data removed]",
      "text/plain": [
       "Plot with title “sim_table”"
      ]
     },
     "metadata": {
      "image/png": {
       "height": 420,
       "width": 420
      },
      "text/plain": {
       "height": 420,
       "width": 420
      }
     },
     "output_type": "display_data"
    }
   ],
   "source": [
    "barplot(sim_table, main='sim_table')"
   ]
  },
  {
   "cell_type": "code",
   "execution_count": null,
   "metadata": {},
   "outputs": [],
   "source": []
  }
 ],
 "metadata": {
  "kernelspec": {
   "display_name": "R",
   "language": "R",
   "name": "ir"
  },
  "language_info": {
   "codemirror_mode": "r",
   "file_extension": ".r",
   "mimetype": "text/x-r-source",
   "name": "R",
   "pygments_lexer": "r",
   "version": "3.4.4"
  }
 },
 "nbformat": 4,
 "nbformat_minor": 2
}
